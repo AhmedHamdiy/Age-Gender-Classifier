{
 "cells": [
  {
   "cell_type": "code",
   "execution_count": 15,
   "id": "7547610d",
   "metadata": {},
   "outputs": [],
   "source": [
    "import librosa\n",
    "import os\n",
    "\n",
    "import numpy as np\n",
    "import pandas as pd\n",
    "\n",
    "from sklearn.model_selection import train_test_split\n",
    "from sklearn.preprocessing import LabelEncoder\n",
    "from sklearn.ensemble import RandomForestClassifier\n",
    "from sklearn.metrics import accuracy_score"
   ]
  },
  {
   "cell_type": "markdown",
   "id": "02d27685",
   "metadata": {},
   "source": [
    "### preprocess data"
   ]
  },
  {
   "cell_type": "code",
   "execution_count": 16,
   "id": "7825f40a",
   "metadata": {},
   "outputs": [
    {
     "data": {
      "text/html": [
       "<div>\n",
       "<style scoped>\n",
       "    .dataframe tbody tr th:only-of-type {\n",
       "        vertical-align: middle;\n",
       "    }\n",
       "\n",
       "    .dataframe tbody tr th {\n",
       "        vertical-align: top;\n",
       "    }\n",
       "\n",
       "    .dataframe thead th {\n",
       "        text-align: right;\n",
       "    }\n",
       "</style>\n",
       "<table border=\"1\" class=\"dataframe\">\n",
       "  <thead>\n",
       "    <tr style=\"text-align: right;\">\n",
       "      <th></th>\n",
       "      <th>Unnamed: 0</th>\n",
       "      <th>path</th>\n",
       "      <th>accent</th>\n",
       "      <th>label</th>\n",
       "      <th>folder</th>\n",
       "    </tr>\n",
       "  </thead>\n",
       "  <tbody>\n",
       "    <tr>\n",
       "      <th>0</th>\n",
       "      <td>0</td>\n",
       "      <td>common_voice_en_19687170.mp3</td>\n",
       "      <td>us</td>\n",
       "      <td>3</td>\n",
       "      <td>2</td>\n",
       "    </tr>\n",
       "    <tr>\n",
       "      <th>1</th>\n",
       "      <td>1</td>\n",
       "      <td>common_voice_en_19687171.mp3</td>\n",
       "      <td>us</td>\n",
       "      <td>3</td>\n",
       "      <td>2</td>\n",
       "    </tr>\n",
       "    <tr>\n",
       "      <th>2</th>\n",
       "      <td>2</td>\n",
       "      <td>common_voice_en_19687172.mp3</td>\n",
       "      <td>us</td>\n",
       "      <td>3</td>\n",
       "      <td>2</td>\n",
       "    </tr>\n",
       "    <tr>\n",
       "      <th>3</th>\n",
       "      <td>3</td>\n",
       "      <td>common_voice_en_19687173.mp3</td>\n",
       "      <td>us</td>\n",
       "      <td>3</td>\n",
       "      <td>2</td>\n",
       "    </tr>\n",
       "    <tr>\n",
       "      <th>4</th>\n",
       "      <td>4</td>\n",
       "      <td>common_voice_en_19687174.mp3</td>\n",
       "      <td>us</td>\n",
       "      <td>3</td>\n",
       "      <td>2</td>\n",
       "    </tr>\n",
       "  </tbody>\n",
       "</table>\n",
       "</div>"
      ],
      "text/plain": [
       "   Unnamed: 0                          path accent  label  folder\n",
       "0           0  common_voice_en_19687170.mp3     us      3       2\n",
       "1           1  common_voice_en_19687171.mp3     us      3       2\n",
       "2           2  common_voice_en_19687172.mp3     us      3       2\n",
       "3           3  common_voice_en_19687173.mp3     us      3       2\n",
       "4           4  common_voice_en_19687174.mp3     us      3       2"
      ]
     },
     "execution_count": 16,
     "metadata": {},
     "output_type": "execute_result"
    }
   ],
   "source": [
    "df = pd.read_csv(\"data/work.csv\")\n",
    "df.head()"
   ]
  },
  {
   "cell_type": "code",
   "execution_count": 17,
   "id": "437f1193",
   "metadata": {},
   "outputs": [
    {
     "name": "stdout",
     "output_type": "stream",
     "text": [
      "null values:\n",
      "Unnamed: 0        0\n",
      "path              0\n",
      "accent        16603\n",
      "label             0\n",
      "folder            0\n",
      "dtype: int64\n",
      "\n",
      "unique accents:\n",
      "['us' 'wales' 'australia' nan 'england' 'indian' 'african' 'canada'\n",
      " 'scotland' 'ireland' 'philippines' 'malaysia' 'other' 'singapore'\n",
      " 'newzealand' 'bermuda' 'hongkong' 'southatlandtic']\n",
      "\n"
     ]
    }
   ],
   "source": [
    "print(f\"null values:\\n{df.isnull().sum()}\\n\")\n",
    "print(f\"unique accents:\\n{df['accent'].unique()}\\n\")\n",
    "\n",
    "# fill null values with the most frequent value\n",
    "df[\"accent\"] = df[\"accent\"].fillna(df[\"accent\"].mode()[0])"
   ]
  },
  {
   "cell_type": "code",
   "execution_count": 18,
   "id": "94cccfe2",
   "metadata": {},
   "outputs": [
    {
     "name": "stdout",
     "output_type": "stream",
     "text": [
      "unique accents:\n",
      "[15 16  1  4  6  0  3 12  7 11  8 10 13  9  2  5 14]\n"
     ]
    }
   ],
   "source": [
    "le = LabelEncoder()\n",
    "df[\"accent\"] = le.fit_transform(df[\"accent\"])\n",
    "\n",
    "print(f\"unique accents:\\n{(df['accent'].unique())}\")"
   ]
  },
  {
   "cell_type": "markdown",
   "id": "82fbd108",
   "metadata": {},
   "source": [
    "### Use balanced subset of data\n",
    "***just for the sake of testing the pipeline***"
   ]
  },
  {
   "cell_type": "code",
   "execution_count": 19,
   "id": "dd366a25",
   "metadata": {},
   "outputs": [],
   "source": [
    "def create_balanced_subset(df, samples_per_class=100):\n",
    "    return df.groupby(\"label\").sample(n=samples_per_class, replace=False)"
   ]
  },
  {
   "cell_type": "code",
   "execution_count": 20,
   "id": "8fb562d2",
   "metadata": {},
   "outputs": [
    {
     "data": {
      "text/html": [
       "<div>\n",
       "<style scoped>\n",
       "    .dataframe tbody tr th:only-of-type {\n",
       "        vertical-align: middle;\n",
       "    }\n",
       "\n",
       "    .dataframe tbody tr th {\n",
       "        vertical-align: top;\n",
       "    }\n",
       "\n",
       "    .dataframe thead th {\n",
       "        text-align: right;\n",
       "    }\n",
       "</style>\n",
       "<table border=\"1\" class=\"dataframe\">\n",
       "  <thead>\n",
       "    <tr style=\"text-align: right;\">\n",
       "      <th></th>\n",
       "      <th>Unnamed: 0</th>\n",
       "      <th>path</th>\n",
       "      <th>accent</th>\n",
       "      <th>label</th>\n",
       "      <th>folder</th>\n",
       "    </tr>\n",
       "  </thead>\n",
       "  <tbody>\n",
       "    <tr>\n",
       "      <th>0</th>\n",
       "      <td>41700</td>\n",
       "      <td>common_voice_en_18590846.mp3</td>\n",
       "      <td>15</td>\n",
       "      <td>0</td>\n",
       "      <td>62</td>\n",
       "    </tr>\n",
       "    <tr>\n",
       "      <th>1</th>\n",
       "      <td>199641</td>\n",
       "      <td>common_voice_en_18302802.mp3</td>\n",
       "      <td>15</td>\n",
       "      <td>0</td>\n",
       "      <td>70</td>\n",
       "    </tr>\n",
       "    <tr>\n",
       "      <th>2</th>\n",
       "      <td>21965</td>\n",
       "      <td>common_voice_en_18620151.mp3</td>\n",
       "      <td>15</td>\n",
       "      <td>0</td>\n",
       "      <td>73</td>\n",
       "    </tr>\n",
       "    <tr>\n",
       "      <th>3</th>\n",
       "      <td>63865</td>\n",
       "      <td>common_voice_en_19991164.mp3</td>\n",
       "      <td>15</td>\n",
       "      <td>0</td>\n",
       "      <td>66</td>\n",
       "    </tr>\n",
       "    <tr>\n",
       "      <th>4</th>\n",
       "      <td>175345</td>\n",
       "      <td>common_voice_en_17390974.mp3</td>\n",
       "      <td>15</td>\n",
       "      <td>0</td>\n",
       "      <td>66</td>\n",
       "    </tr>\n",
       "    <tr>\n",
       "      <th>...</th>\n",
       "      <td>...</td>\n",
       "      <td>...</td>\n",
       "      <td>...</td>\n",
       "      <td>...</td>\n",
       "      <td>...</td>\n",
       "    </tr>\n",
       "    <tr>\n",
       "      <th>395</th>\n",
       "      <td>81848</td>\n",
       "      <td>common_voice_en_17576850.mp3</td>\n",
       "      <td>2</td>\n",
       "      <td>3</td>\n",
       "      <td>24</td>\n",
       "    </tr>\n",
       "    <tr>\n",
       "      <th>396</th>\n",
       "      <td>140668</td>\n",
       "      <td>common_voice_en_660267.mp3</td>\n",
       "      <td>4</td>\n",
       "      <td>3</td>\n",
       "      <td>39</td>\n",
       "    </tr>\n",
       "    <tr>\n",
       "      <th>397</th>\n",
       "      <td>176573</td>\n",
       "      <td>common_voice_en_142095.mp3</td>\n",
       "      <td>4</td>\n",
       "      <td>3</td>\n",
       "      <td>50</td>\n",
       "    </tr>\n",
       "    <tr>\n",
       "      <th>398</th>\n",
       "      <td>23753</td>\n",
       "      <td>common_voice_en_19607705.mp3</td>\n",
       "      <td>1</td>\n",
       "      <td>3</td>\n",
       "      <td>8</td>\n",
       "    </tr>\n",
       "    <tr>\n",
       "      <th>399</th>\n",
       "      <td>23885</td>\n",
       "      <td>common_voice_en_19777375.mp3</td>\n",
       "      <td>15</td>\n",
       "      <td>3</td>\n",
       "      <td>8</td>\n",
       "    </tr>\n",
       "  </tbody>\n",
       "</table>\n",
       "<p>400 rows × 5 columns</p>\n",
       "</div>"
      ],
      "text/plain": [
       "     Unnamed: 0                          path  accent  label  folder\n",
       "0         41700  common_voice_en_18590846.mp3      15      0      62\n",
       "1        199641  common_voice_en_18302802.mp3      15      0      70\n",
       "2         21965  common_voice_en_18620151.mp3      15      0      73\n",
       "3         63865  common_voice_en_19991164.mp3      15      0      66\n",
       "4        175345  common_voice_en_17390974.mp3      15      0      66\n",
       "..          ...                           ...     ...    ...     ...\n",
       "395       81848  common_voice_en_17576850.mp3       2      3      24\n",
       "396      140668    common_voice_en_660267.mp3       4      3      39\n",
       "397      176573    common_voice_en_142095.mp3       4      3      50\n",
       "398       23753  common_voice_en_19607705.mp3       1      3       8\n",
       "399       23885  common_voice_en_19777375.mp3      15      3       8\n",
       "\n",
       "[400 rows x 5 columns]"
      ]
     },
     "execution_count": 20,
     "metadata": {},
     "output_type": "execute_result"
    }
   ],
   "source": [
    "working_df = create_balanced_subset(df)\n",
    "working_df = working_df.reset_index(drop=True)\n",
    "working_df.head(400)"
   ]
  },
  {
   "cell_type": "markdown",
   "id": "ae4f48c5",
   "metadata": {},
   "source": [
    "### Extract features"
   ]
  },
  {
   "cell_type": "code",
   "execution_count": 21,
   "id": "420227b8",
   "metadata": {},
   "outputs": [],
   "source": [
    "def extract_features(audio):\n",
    "    mfccs = librosa.feature.mfcc(y=audio, sr=22050, n_mfcc=13)\n",
    "    return np.mean(mfccs.T, axis=0)"
   ]
  },
  {
   "cell_type": "markdown",
   "id": "075b740f",
   "metadata": {},
   "source": [
    "### Load audio files"
   ]
  },
  {
   "cell_type": "code",
   "execution_count": 23,
   "id": "6b7dfb7d",
   "metadata": {},
   "outputs": [
    {
     "name": "stderr",
     "output_type": "stream",
     "text": [
      "/tmp/ipykernel_87493/384091447.py:19: UserWarning: PySoundFile failed. Trying audioread instead.\n",
      "  audio, _ = librosa.load(file_path, sr=sample_rate)\n"
     ]
    },
    {
     "name": "stdout",
     "output_type": "stream",
     "text": [
      "skipping data/work/64/common_voice_en_678905.mp3: \n",
      "processed batch: 1/20\n",
      "skipping data/work/63/common_voice_en_73485.mp3: \n",
      "processed batch: 2/20\n",
      "skipping data/work/68/common_voice_en_91949.mp3: \n",
      "processed batch: 3/20\n",
      "processed batch: 4/20\n",
      "skipping data/work/69/common_voice_en_92077.mp3: \n",
      "processed batch: 5/20\n",
      "skipping data/work/50/common_voice_en_93916.mp3: \n",
      "processed batch: 6/20\n",
      "skipping data/work/50/common_voice_en_93916.mp3: \n",
      "processed batch: 7/20\n",
      "processed batch: 8/20\n",
      "skipping data/work/25/common_voice_en_686315.mp3: \n",
      "skipping data/work/50/common_voice_en_93770.mp3: \n",
      "processed batch: 9/20\n",
      "processed batch: 10/20\n",
      "skipping data/work/54/common_voice_en_668064.mp3: \n",
      "processed batch: 11/20\n",
      "processed batch: 12/20\n",
      "skipping data/work/54/common_voice_en_668378.mp3: \n",
      "skipping data/work/34/common_voice_en_678742.mp3: \n",
      "processed batch: 13/20\n",
      "skipping data/work/34/common_voice_en_678742.mp3: \n",
      "skipping data/work/11/common_voice_en_89704.mp3: \n",
      "processed batch: 14/20\n",
      "processed batch: 15/20\n",
      "skipping data/work/41/common_voice_en_72955.mp3: \n",
      "skipping data/work/48/common_voice_en_678500.mp3: \n",
      "processed batch: 16/20\n",
      "skipping data/work/55/common_voice_en_6923194.mp3: \n",
      "skipping data/work/55/common_voice_en_7386849.mp3: \n",
      "processed batch: 17/20\n",
      "processed batch: 18/20\n",
      "processed batch: 19/20\n",
      "processed batch: 20/20\n"
     ]
    }
   ],
   "source": [
    "base_dir = \"data/work\"\n",
    "batch_size = 20\n",
    "sample_rate = 22050\n",
    "\n",
    "X = []\n",
    "y = []\n",
    "\n",
    "total_batches = len(working_df) // batch_size\n",
    "\n",
    "for i in range(0, len(working_df), batch_size):\n",
    "    batch = working_df.loc[i : i + batch_size]\n",
    "\n",
    "    for _, row in batch.iterrows():\n",
    "        folder = str(row[\"folder\"])\n",
    "        path = row[\"path\"]\n",
    "        file_path = os.path.join(base_dir, folder, path)\n",
    "\n",
    "        try:\n",
    "            audio, _ = librosa.load(file_path, sr=sample_rate)\n",
    "\n",
    "            # extract features\n",
    "            mfccs = extract_features(audio)\n",
    "            X.append(np.concatenate([mfccs, [row[\"accent\"]]]))\n",
    "            y.append(row[\"label\"])\n",
    "            # ---------------\n",
    "\n",
    "            del audio\n",
    "        except Exception as e:\n",
    "            print(f\"skipping {file_path}: {e}\")\n",
    "\n",
    "    del batch\n",
    "    print(f\"processed batch: {i//batch_size + 1}/{total_batches}\")\n",
    "\n",
    "\n",
    "X = np.array(X)\n",
    "y = np.array(y)"
   ]
  },
  {
   "cell_type": "markdown",
   "id": "fe011be5",
   "metadata": {},
   "source": [
    "### Split data"
   ]
  },
  {
   "cell_type": "code",
   "execution_count": 24,
   "id": "a4ed7903",
   "metadata": {},
   "outputs": [],
   "source": [
    "X_train, X_test, y_train, y_test = train_test_split(X, y, test_size=0.2, random_state=0)"
   ]
  },
  {
   "cell_type": "markdown",
   "id": "ac62133f",
   "metadata": {},
   "source": [
    "### Train a classifier"
   ]
  },
  {
   "cell_type": "code",
   "execution_count": 28,
   "id": "02d4bb29",
   "metadata": {},
   "outputs": [],
   "source": [
    "rf = RandomForestClassifier(n_estimators=100, random_state=42)\n",
    "rf.fit(X_train, y_train)\n",
    "\n",
    "y_pred = rf.predict(X_test)"
   ]
  },
  {
   "cell_type": "markdown",
   "id": "5d5843dd",
   "metadata": {},
   "source": [
    "### Show results"
   ]
  },
  {
   "cell_type": "code",
   "execution_count": 29,
   "id": "c8a2ed73",
   "metadata": {},
   "outputs": [
    {
     "name": "stdout",
     "output_type": "stream",
     "text": [
      "\n",
      "Overall Accuracy: 0.53\n"
     ]
    }
   ],
   "source": [
    "accuracy = accuracy_score(y_test, y_pred)\n",
    "print(f\"\\nOverall Accuracy: {accuracy:.2f}\")"
   ]
  }
 ],
 "metadata": {
  "kernelspec": {
   "display_name": "project",
   "language": "python",
   "name": "python3"
  },
  "language_info": {
   "codemirror_mode": {
    "name": "ipython",
    "version": 3
   },
   "file_extension": ".py",
   "mimetype": "text/x-python",
   "name": "python",
   "nbconvert_exporter": "python",
   "pygments_lexer": "ipython3",
   "version": "3.9.21"
  }
 },
 "nbformat": 4,
 "nbformat_minor": 5
}

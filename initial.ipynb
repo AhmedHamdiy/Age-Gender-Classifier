{
 "cells": [
  {
   "cell_type": "code",
   "execution_count": null,
   "id": "87fee7f4",
   "metadata": {},
   "outputs": [],
   "source": [
    "import librosa\n",
    "import sklearn\n",
    "import matplotlib as plot\n",
    "import numpy as np\n",
    "import os\n",
    "import pandas as pd"
   ]
  },
  {
   "cell_type": "code",
   "execution_count": null,
   "id": "9ab65521",
   "metadata": {},
   "outputs": [],
   "source": [
    "csv_path = \"data/work.csv\"\n",
    "base_dir = \"data/work\"\n",
    "batch_size = 20\n",
    "sample_rate = 22050\n",
    "\n",
    "df = pd.read_csv(csv_path)\n",
    "\n",
    "X = []\n",
    "y = []\n",
    "\n",
    "for i in range(0, len(df), batch_size):\n",
    "    batch = df.iloc[i : i + batch_size]\n",
    "    batch_features = []\n",
    "    batch_labels = []\n",
    "\n",
    "    for _, row in batch.iterrows():\n",
    "        file_path = os.path.join(base_dir, str(row[\"folder\"]), row[\"path\"])\n",
    "        try:\n",
    "            audio, _ = librosa.load(file_path, sr=sample_rate)\n",
    "\n",
    "            # TODO: extract features\n",
    "            mfccs = librosa.feature.mfcc(y=audio, sr=sample_rate, n_mfcc=13)\n",
    "            mfccs_processed = np.mean(mfccs.T, axis=0)\n",
    "            # -------------\n",
    "\n",
    "            batch_features.append(mfccs_processed)\n",
    "            batch_labels.append(row[\"label\"])\n",
    "\n",
    "            del audio, mfccs\n",
    "        except Exception as e:\n",
    "            print(f\"Skipping {file_path}: {e}\")\n",
    "\n",
    "    X.extend(batch_features)\n",
    "    y.extend(batch_labels)\n",
    "\n",
    "    del batch, batch_features, batch_labels\n",
    "\n",
    "    print(f\"Processed batch {i//batch_size + 1}/{(len(df)//batch_size)+1}\")\n",
    "\n",
    "X = np.array(X)\n",
    "y = np.array(y)"
   ]
  }
 ],
 "metadata": {
  "kernelspec": {
   "display_name": "project",
   "language": "python",
   "name": "python3"
  },
  "language_info": {
   "codemirror_mode": {
    "name": "ipython",
    "version": 3
   },
   "file_extension": ".py",
   "mimetype": "text/x-python",
   "name": "python",
   "nbconvert_exporter": "python",
   "pygments_lexer": "ipython3",
   "version": "3.9.21"
  }
 },
 "nbformat": 4,
 "nbformat_minor": 5
}
